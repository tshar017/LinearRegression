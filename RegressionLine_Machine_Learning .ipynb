{
 "cells": [
  {
   "cell_type": "markdown",
   "id": "5a7c3e5e",
   "metadata": {},
   "source": [
    "# Regression Line"
   ]
  },
  {
   "cell_type": "code",
   "execution_count": 28,
   "id": "66be7b74",
   "metadata": {},
   "outputs": [
    {
     "data": {
      "text/html": [
       "<div>\n",
       "<style scoped>\n",
       "    .dataframe tbody tr th:only-of-type {\n",
       "        vertical-align: middle;\n",
       "    }\n",
       "\n",
       "    .dataframe tbody tr th {\n",
       "        vertical-align: top;\n",
       "    }\n",
       "\n",
       "    .dataframe thead th {\n",
       "        text-align: right;\n",
       "    }\n",
       "</style>\n",
       "<table border=\"1\" class=\"dataframe\">\n",
       "  <thead>\n",
       "    <tr style=\"text-align: right;\">\n",
       "      <th></th>\n",
       "      <th>Gender</th>\n",
       "      <th>Age Range</th>\n",
       "      <th>Head Size(cm^3)</th>\n",
       "      <th>Brain Weight(grams)</th>\n",
       "    </tr>\n",
       "  </thead>\n",
       "  <tbody>\n",
       "    <tr>\n",
       "      <th>0</th>\n",
       "      <td>1</td>\n",
       "      <td>1</td>\n",
       "      <td>4512</td>\n",
       "      <td>1530</td>\n",
       "    </tr>\n",
       "    <tr>\n",
       "      <th>1</th>\n",
       "      <td>1</td>\n",
       "      <td>1</td>\n",
       "      <td>3738</td>\n",
       "      <td>1297</td>\n",
       "    </tr>\n",
       "    <tr>\n",
       "      <th>2</th>\n",
       "      <td>1</td>\n",
       "      <td>1</td>\n",
       "      <td>4261</td>\n",
       "      <td>1335</td>\n",
       "    </tr>\n",
       "    <tr>\n",
       "      <th>3</th>\n",
       "      <td>1</td>\n",
       "      <td>1</td>\n",
       "      <td>3777</td>\n",
       "      <td>1282</td>\n",
       "    </tr>\n",
       "    <tr>\n",
       "      <th>4</th>\n",
       "      <td>1</td>\n",
       "      <td>1</td>\n",
       "      <td>4177</td>\n",
       "      <td>1590</td>\n",
       "    </tr>\n",
       "  </tbody>\n",
       "</table>\n",
       "</div>"
      ],
      "text/plain": [
       "   Gender  Age Range  Head Size(cm^3)  Brain Weight(grams)\n",
       "0       1          1             4512                 1530\n",
       "1       1          1             3738                 1297\n",
       "2       1          1             4261                 1335\n",
       "3       1          1             3777                 1282\n",
       "4       1          1             4177                 1590"
      ]
     },
     "execution_count": 28,
     "metadata": {},
     "output_type": "execute_result"
    }
   ],
   "source": [
    "%matplotlib inline\n",
    "import numpy as np # linear algebra \n",
    "import pandas as pd # processing data in CSV file I/O (eg. pd.read_csv)\n",
    "import matplotlib.pyplot as plt\n",
    "import seaborn as sns\n",
    "plt.rcParams['figure.figsize'] = (20.0, 10.0) # to assign the figure size\n",
    "\n",
    "#Reading Data\n",
    "data = pd.read_csv('/Users/tejsharma/Downloads/headbrain.csv')\n",
    "#print(data.shape)  # return the shape of DataFrame or numpy array\n",
    "data.head()"
   ]
  },
  {
   "cell_type": "code",
   "execution_count": 12,
   "id": "bbf99af3",
   "metadata": {},
   "outputs": [
    {
     "name": "stdout",
     "output_type": "stream",
     "text": [
      "Data info: \n",
      "\n",
      "<class 'pandas.core.frame.DataFrame'>\n",
      "RangeIndex: 237 entries, 0 to 236\n",
      "Data columns (total 4 columns):\n",
      " #   Column               Non-Null Count  Dtype\n",
      "---  ------               --------------  -----\n",
      " 0   Gender               237 non-null    int64\n",
      " 1   Age Range            237 non-null    int64\n",
      " 2   Head Size(cm^3)      237 non-null    int64\n",
      " 3   Brain Weight(grams)  237 non-null    int64\n",
      "dtypes: int64(4)\n",
      "memory usage: 7.5 KB\n",
      "None\n"
     ]
    }
   ],
   "source": [
    "print(\"Data info: \\n\") #\\n prints the new line after printing this line\n",
    "print(data.info())"
   ]
  },
  {
   "cell_type": "code",
   "execution_count": 15,
   "id": "8b87f897",
   "metadata": {},
   "outputs": [
    {
     "name": "stdout",
     "output_type": "stream",
     "text": [
      "Checking for any null values: \n",
      "\n",
      "Gender                 False\n",
      "Age Range              False\n",
      "Head Size(cm^3)        False\n",
      "Brain Weight(grams)    False\n",
      "dtype: bool\n"
     ]
    }
   ],
   "source": [
    "print(\"Checking for any null values: \\n\")\n",
    "print(data.isnull().any())"
   ]
  },
  {
   "cell_type": "code",
   "execution_count": 16,
   "id": "850eb262",
   "metadata": {},
   "outputs": [
    {
     "name": "stdout",
     "output_type": "stream",
     "text": [
      "Checking for any unique values in each column: \n",
      "\n",
      "Gender                   2\n",
      "Age Range                2\n",
      "Head Size(cm^3)        221\n",
      "Brain Weight(grams)    146\n",
      "dtype: int64\n"
     ]
    }
   ],
   "source": [
    "print('Checking for any unique values in each column: \\n')\n",
    "print(data.nunique())"
   ]
  },
  {
   "cell_type": "code",
   "execution_count": 29,
   "id": "f5e8d940",
   "metadata": {},
   "outputs": [
    {
     "data": {
      "image/png": "[encoded data removed]",
      "text/plain": [
       "<Figure size 1440x720 with 1 Axes>"
      ]
     },
     "metadata": {
      "needs_background": "light"
     },
     "output_type": "display_data"
    }
   ],
   "source": [
    "# Lets import the other module/libraries necessary for machine learning \n",
    "from sklearn.metrics import classification_report #used to generate detailed classification reports for classification model performance \n",
    "from sklearn.model_selection import train_test_split #used to split the data into training and testing dataset\n",
    "from sklearn.linear_model import LinearRegression  # module whihc is used to create a LR model for continious values\n",
    "from sklearn.metrics import r2_score  # computes coefficient of determinitation (R-squared)\n",
    "\n",
    "\n",
    "\n",
    "# Let's plot the scattered plot between head-size and brain weight\n",
    "sns.scatterplot(y = 'Brain Weight(grams)', x = 'Head Size(cm^3)', data = data)\n",
    "plt.show()\n",
    "                "
   ]
  },
  {
   "cell_type": "markdown",
   "id": "adf289ba",
   "metadata": {},
   "source": [
    "We are focusing only Headsize (independent) and Brainsize (dependent) for this exercise so let's get in X and Y"
   ]
  },
  {
   "cell_type": "code",
   "execution_count": 35,
   "id": "88106dca",
   "metadata": {},
   "outputs": [
    {
     "data": {
      "text/plain": [
       "((237,), (237,))"
      ]
     },
     "execution_count": 35,
     "metadata": {},
     "output_type": "execute_result"
    }
   ],
   "source": [
    "data = data.values\n",
    "X = data[:,2]\n",
    "Y = data[:,3]\n",
    "X.shape,  Y.shape"
   ]
  },
  {
   "cell_type": "markdown",
   "id": "ab4ac04a",
   "metadata": {},
   "source": [
    "Linear Regression model is used to predict the realtionshipe between dependent variable (target) and the independent variable(s). It can be used to check the correlations between the variables.\n",
    "\n",
    "a. Simple Linear Regression -> relationship between just two variables (a dependent Vs an independent)\n",
    "b. Multiple Regression -> relationship between two or more variables ( a dependent Vs 2 or more independent)\n",
    "The current data set in an example of Simple Linear Regression. We have a target or the dependent variable,which is Brain Weight. The independent variable here is the Head Size.\n",
    "\n",
    "The formula goes like this -\n",
    "\n",
    "y = mx+c\n",
    "\n",
    "Where ,\n",
    "\n",
    "c - is the y-intercept\n",
    "\n",
    "m - is the slope / coefficient -> this quantity effects the values of y\n",
    "\n",
    "In our example -\n",
    "\n",
    "BrainWeight = m * HeadSize + constant\n",
    "\n",
    "constant = BrainWeight - (m * HeadSize)"
   ]
  },
  {
   "cell_type": "code",
   "execution_count": 46,
   "id": "7adff5a9",
   "metadata": {},
   "outputs": [],
   "source": [
    "def Linear_Regression(X,Y):\n",
    "    mean_x = np.mean(X)  # Calculating mean of independent variable\n",
    "    mean_y = np.mean(Y)  # Calculating mean of dependent variable\n",
    "\n",
    "    n = len(X)     # Total number of dat points \n",
    "    numerator= 0  # initilize values as zero befor loop starts\n",
    "    denominator=0  # used to sumup value within the loop\n",
    "    for i in range(n):   # Calculate the coefficients of the linear regression equation (m and c)\n",
    "        numerator   += ((X[i] - mean_x) * (Y[i] - mean_y))\n",
    "        denominator += ((X[i] - mean_x) ** 2)\n",
    "\n",
    "    m = numerator/ denominator #Slope of the line\n",
    "    c = mean_y - m * mean_x    #Intercept of the line \n",
    "    \n",
    "    return(m,c) # Return the slope(m) and intercept (c) of the linear equation\n",
    "\n",
    "def predict(X,m,c):  # Takes the calculated slope m and intercept c, and predicts the dependent variable Y for each value of X provided.\n",
    "    pred_y=[]\n",
    "    for i in range(len(X)):\n",
    "        pred_y.append(c + m * X[i])\n",
    "\n",
    "    return(pred_y) # Return the predicted value of Y for the given X- values"
   ]
  },
  {
   "cell_type": "markdown",
   "id": "51a85147",
   "metadata": {},
   "source": [
    "Now let's calculate the R-Square value (Coefficient of determination)\n",
    "\n",
    "y_obs -> observed data\n",
    "\n",
    "y_pred -> predicted value of y from the formula (y=mx+c)\n",
    "\n",
    "y_hat -> mean of y_obs\n",
    "\n",
    "total_sum_of_squares(ss_tot) -> sum( (y_obs - y_hat) ** 2 )\n",
    "\n",
    "sum_of_squares(ss_res) -> sum( (y_obs - y_pred) ** 2 )\n",
    "\n",
    "r2 -> 1 - total_sum_of_squares/sum_of_squares"
   ]
  },
  {
   "cell_type": "code",
   "execution_count": 47,
   "id": "1c28556a",
   "metadata": {},
   "outputs": [],
   "source": [
    "def r2score(y_obs,y_pred):\n",
    "    yhat = np.mean(y_obs)  # Mean of y_obs\n",
    "    \n",
    "    ss_res = 0.0\n",
    "    ss_tot = 0.0\n",
    "    \n",
    "    for i in range(len(y_obs)):\n",
    "        ss_tot += (y_obs[i]-yhat)**2\n",
    "        ss_res += (y_obs[i]-y_pred[i])**2\n",
    "        \n",
    "    r2 = 1 - (ss_res/ss_tot)\n",
    "\n",
    "    return r2"
   ]
  },
  {
   "cell_type": "markdown",
   "id": "c75dd330",
   "metadata": {},
   "source": [
    "# Now calculate the Linear Regression and plot the data points "
   ]
  },
  {
   "cell_type": "code",
   "execution_count": 48,
   "id": "b2310e3c",
   "metadata": {
    "scrolled": true
   },
   "outputs": [
    {
     "name": "stdout",
     "output_type": "stream",
     "text": [
      "slope =  0.2641965074330401\n",
      "intercept =  316.8473727991453\n",
      "R-squared : 0.6341433394669539\n"
     ]
    },
    {
     "data": {
      "image/png": "[encoded data removed]",
      "text/plain": [
       "<Figure size 1440x720 with 1 Axes>"
      ]
     },
     "metadata": {
      "needs_background": "light"
     },
     "output_type": "display_data"
    }
   ],
   "source": [
    "plt.title(\"LRegression Plot of HeadSize Vs Brain Weight\")\n",
    "\n",
    "X_train,X_test,y_train,y_test = train_test_split(X,Y,test_size=0.3)\n",
    "\n",
    "m,c = Linear_Regression(X_train,y_train)\n",
    "print(\"slope = \", m)\n",
    "print('intercept = ',c)\n",
    "      \n",
    "y_pred =  predict(X_test,m,c)\n",
    "\n",
    "print(\"R-squared :\",r2score(y_test,y_pred))\n",
    "\n",
    "plt.plot(X_test,y_pred,color='red',label='Linear Regression')\n",
    "plt.scatter(X_train,y_train,c='b',label='Scatter Plot')\n",
    "plt.xlabel(\"Head Size\")\n",
    "plt.ylabel(\"Brain Weight\")\n",
    "plt.legend()\n",
    "plt.show()\n"
   ]
  },
  {
   "cell_type": "code",
   "execution_count": null,
   "id": "c249ec9f",
   "metadata": {},
   "outputs": [],
   "source": []
  },
  {
   "cell_type": "code",
   "execution_count": 49,
   "id": "eabf4ea3",
   "metadata": {},
   "outputs": [
    {
     "name": "stdout",
     "output_type": "stream",
     "text": [
      "R-squared : 0.6726985877729703\n"
     ]
    }
   ],
   "source": [
    "#Reshape the input data into 2D array\n",
    "X = X.reshape(len(X),1) # This is typically done when working with a single feature (X) to make it compatible\n",
    "#with scikit-learn's expectations, where the input features should be a 2D array.\n",
    "\n",
    "X_train,X_test,y_train,y_test = train_test_split(X,Y,test_size=0.3) # Split the Data into Training and Testing Sets:\n",
    "\n",
    "reg = LinearRegression() # Create and fit the linear regression model\n",
    "reg.fit(X_train,y_train)\n",
    "\n",
    "y_predictions = reg.predict(X_test) # The trained model is used to predict the dependent variable y for the testing data X_test.\n",
    "\n",
    "print(\"R-squared :\",r2_score(y_test, y_predictions))"
   ]
  }
 ],
 "metadata": {
  "kernelspec": {
   "display_name": "Python 3 (ipykernel)",
   "language": "python",
   "name": "python3"
  },
  "language_info": {
   "codemirror_mode": {
    "name": "ipython",
    "version": 3
   },
   "file_extension": ".py",
   "mimetype": "text/x-python",
   "name": "python",
   "nbconvert_exporter": "python",
   "pygments_lexer": "ipython3",
   "version": "3.9.7"
  }
 },
 "nbformat": 4,
 "nbformat_minor": 5
}
